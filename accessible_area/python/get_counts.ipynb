{
 "cells": [
  {
   "cell_type": "code",
   "execution_count": null,
   "metadata": {},
   "outputs": [],
   "source": [
    "import MDAnalysis as mda\n",
    "from pathlib import Path\n",
    "\n",
    "import numpy as np\n",
    "from get_counts_helpers import get_counts, animate_counts"
   ]
  },
  {
   "cell_type": "code",
   "execution_count": null,
   "metadata": {},
   "outputs": [],
   "source": [
    "# Define paths\n",
    "make_movies = False\n",
    "fpath = Path(\"/Users/ezry/Projects/ELIC_DPPC/DPPC/\")\n",
    "xtc = str(fpath.joinpath(\"wholereduced.xtc\"))\n",
    "gro = str(fpath.joinpath(\"md.gro\"))\n",
    "\n",
    "# Read the data\n",
    "membrane = mda.Universe(gro, xtc)\n",
    "\n",
    "# Assign leaflets\n",
    "all_dppc = membrane.select_atoms('resname DPPC')\n",
    "upper = all_dppc.select_atoms('prop resid <= 1521')\n",
    "lower = all_dppc.select_atoms('prop resid > 1521')\n",
    "water = membrane.select_atoms('resname W')\n",
    "assert len(upper)==len(lower), \"Warning: asymmetric membrane detected or faulty leaflet assignment\""
   ]
  },
  {
   "cell_type": "code",
   "execution_count": null,
   "metadata": {},
   "outputs": [],
   "source": [
    "areas = np.arange(90,100,1)\n",
    "widths = np.sqrt(areas)\n",
    "\n",
    "for width in widths:\n",
    "    area = int(np.round(width**2))\n",
    "    print(f\"Now running: {area}\")\n",
    "    membrane.trajectory.rewind()\n",
    "    all_counts = get_counts(membrane, water, upper, width)\n",
    "    \n",
    "    np.savetxt(f\"counts_{area}.dat\",all_counts.flatten())\n",
    "    if make_movies:\n",
    "        animate_counts(all_counts, f\"counts_{area}.mp4\")"
   ]
  },
  {
   "cell_type": "code",
   "execution_count": null,
   "metadata": {},
   "outputs": [],
   "source": []
  }
 ],
 "metadata": {
  "kernelspec": {
   "display_name": "jupEnv",
   "language": "python",
   "name": "python3"
  },
  "language_info": {
   "codemirror_mode": {
    "name": "ipython",
    "version": 3
   },
   "file_extension": ".py",
   "mimetype": "text/x-python",
   "name": "python",
   "nbconvert_exporter": "python",
   "pygments_lexer": "ipython3",
   "version": "3.9.16"
  }
 },
 "nbformat": 4,
 "nbformat_minor": 2
}
